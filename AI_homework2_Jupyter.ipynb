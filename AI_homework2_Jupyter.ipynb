{
 "cells": [
  {
   "cell_type": "code",
   "execution_count": 1,
   "id": "42547c67",
   "metadata": {},
   "outputs": [],
   "source": [
    "import numpy as np\n",
    "import math\n",
    "import pandas as pd\n",
    "import matplotlib.pyplot as plt\n",
    "import seaborn as sns"
   ]
  },
  {
   "cell_type": "code",
   "execution_count": 2,
   "id": "3ecd11d5",
   "metadata": {},
   "outputs": [],
   "source": [
    "# Function to get the euclidean distance for any n dimensional vectors of the same length\n",
    "def euclid_nd(a,b):\n",
    "    \n",
    "    # Get the sum of squares for all n dimensions of a and b, where a is an object of x\n",
    "    # and b is a centroid\n",
    "    sum_of_squares = 0\n",
    "    for n in range(len(a)):\n",
    "        sum_of_squares += (b[n] - a[n])**2\n",
    "    \n",
    "    # return square root of the sum of squares\n",
    "    return math.sqrt(sum_of_squares)\n",
    "\n",
    "\n",
    "# Function for determining the closest of centroids for each object in x based on euclidean distance\n",
    "'''\n",
    "Note that no code change is needed from the example \"kmeans.py\"\n",
    "Assignments for objects in x are returned in vectors regardless of the feature dimensions of x\n",
    "\n",
    "'''\n",
    "\n",
    "def closest_nd(x, centroids):\n",
    "    \n",
    "    # List for holding cluster assignments for every object in x\n",
    "    assignments = []\n",
    "    \n",
    "    # Iterate over every object in x\n",
    "    for i in x:\n",
    "        \n",
    "        # distance between one data point and centroids\n",
    "        distance=[]\n",
    "        \n",
    "        # Iterate over every centroid\n",
    "        for j in centroids:\n",
    "            \n",
    "            distance.append(euclid_nd(i, j))\n",
    "            \n",
    "        # assign each data point to the cluster with closest centroid   \n",
    "        assignments.append(np.argmin(distance))\n",
    "\n",
    "    return np.array(assignments)\n",
    "\n",
    "\n",
    "# Updates the centroids based on assigned clusters from function closest_nd\n",
    "def update_nd(x, clusters, K):\n",
    "    \n",
    "    # Build np array of centroids for number of axes * clusters\n",
    "    new_centroids = np.zeros(shape=(K,x.shape[1]))\n",
    "\n",
    "    # Get cluster mean(s) for each cluster K\n",
    "    for c in range(K):\n",
    "\n",
    "        # For each feature dimension (axis) of x\n",
    "        for n in range(x.shape[1]):\n",
    "\n",
    "            # Get mean for cluster along the nth axis and assign to centroid\n",
    "            new_centroids[c,n] = x[clusters == c,n].mean()\n",
    "    \n",
    "    return new_centroids\n",
    "\n",
    "\n",
    "# Function for assigning clusters as labels for a new \n",
    "def label_clusters(x, clusters):\n",
    "    \n",
    "    # Add cluster label to each onject\n",
    "    # reshapes clusters to len of x\n",
    "    # uses hstack to add each cluster label as a new column of x\n",
    "    labeled_x = np.hstack((x,clusters.reshape(len(x),1)))\n",
    "    return labeled_x\n",
    "    \n",
    "    \n",
    "# k-means main function, supports n-dimensional inputs\n",
    "def kmeans_nd(x, K):\n",
    "    \n",
    "    # initialize the centroids of K clusters with a range of max of x plus 10%\n",
    "    centroids = round(1.1 * max(x.max(axis = 0))) * np.random.rand(K, x.shape[1])\n",
    "    print('Initialized centroids: {}'.format(centroids))\n",
    "    \n",
    "    # Assign clusters for intial centroids\n",
    "    clusters = closest_nd(x, centroids)\n",
    "    print(clusters)\n",
    "    \n",
    "    # Iterate to find minimums, 10 should be enough\n",
    "    for i in range(10):\n",
    "        clusters = closest_nd(x, centroids)\n",
    "        centroids = update_nd(x, clusters, K)\n",
    "        print('Iteration: {}, Centroids: {}'.format(i, centroids))\n",
    "    \n",
    "    print('\\nFinal Centroids: {}\\nFinal Clusters: {}'.format(centroids, clusters))\n",
    "    \n",
    "    # Return cluster labeled dataset and final centroids\n",
    "    return label_clusters(x, clusters), centroids"
   ]
  },
  {
   "cell_type": "code",
   "execution_count": 3,
   "id": "c89e74ce",
   "metadata": {},
   "outputs": [
    {
     "name": "stdout",
     "output_type": "stream",
     "text": [
      "Initialized centroids: [[7.86425084 7.75868251]\n",
      " [0.5665146  9.42143885]]\n",
      "[1 1 0 0 0 0]\n",
      "Iteration: 0, Centroids: [[7.    7.125]\n",
      " [1.85  3.4  ]]\n",
      "Iteration: 1, Centroids: [[8.2        9.        ]\n",
      " [2.36666667 2.76666667]]\n",
      "Iteration: 2, Centroids: [[8.2        9.        ]\n",
      " [2.36666667 2.76666667]]\n",
      "Iteration: 3, Centroids: [[8.2        9.        ]\n",
      " [2.36666667 2.76666667]]\n",
      "Iteration: 4, Centroids: [[8.2        9.        ]\n",
      " [2.36666667 2.76666667]]\n",
      "Iteration: 5, Centroids: [[8.2        9.        ]\n",
      " [2.36666667 2.76666667]]\n",
      "Iteration: 6, Centroids: [[8.2        9.        ]\n",
      " [2.36666667 2.76666667]]\n",
      "Iteration: 7, Centroids: [[8.2        9.        ]\n",
      " [2.36666667 2.76666667]]\n",
      "Iteration: 8, Centroids: [[8.2        9.        ]\n",
      " [2.36666667 2.76666667]]\n",
      "Iteration: 9, Centroids: [[8.2        9.        ]\n",
      " [2.36666667 2.76666667]]\n",
      "\n",
      "Final Centroids: [[8.2        9.        ]\n",
      " [2.36666667 2.76666667]]\n",
      "Final Clusters: [1 1 0 0 1 0]\n"
     ]
    }
   ],
   "source": [
    "# Main\n",
    "\n",
    "x = np.array([[2,4],[1.7,2.8],[7,8],[8.6,8],[3.4,1.5],[9,11]])\n",
    "K = 2\n",
    "\n",
    "# Get labeled set and centoids for plotting\n",
    "labeled, centroids = kmeans_nd(x, K)"
   ]
  },
  {
   "cell_type": "code",
   "execution_count": 4,
   "id": "3f0a21a9",
   "metadata": {},
   "outputs": [],
   "source": [
    "# Convert x and centroids to dataframes\n",
    "\n",
    "labeled_df = pd.DataFrame(labeled, columns = ['Feature_1','Feature_2','Cluster'])\n",
    "centroid_df = pd.DataFrame(centroids, columns = ['Feature_1', 'Feature_2'])"
   ]
  },
  {
   "cell_type": "code",
   "execution_count": 5,
   "id": "656074c4",
   "metadata": {},
   "outputs": [
    {
     "name": "stdout",
     "output_type": "stream",
     "text": [
      "   Feature_1  Feature_2  Cluster\n",
      "0        2.0        4.0      1.0\n",
      "1        1.7        2.8      1.0\n",
      "2        7.0        8.0      0.0\n",
      "3        8.6        8.0      0.0\n",
      "4        3.4        1.5      1.0\n",
      "5        9.0       11.0      0.0\n"
     ]
    }
   ],
   "source": [
    "print(labeled_df)"
   ]
  },
  {
   "cell_type": "code",
   "execution_count": 6,
   "id": "27182722",
   "metadata": {},
   "outputs": [
    {
     "name": "stdout",
     "output_type": "stream",
     "text": [
      "   Feature_1  Feature_2\n",
      "0   8.200000   9.000000\n",
      "1   2.366667   2.766667\n"
     ]
    }
   ],
   "source": [
    "print(centroid_df)"
   ]
  },
  {
   "cell_type": "code",
   "execution_count": 7,
   "id": "ec7054cd",
   "metadata": {},
   "outputs": [
    {
     "data": {
      "image/png": "[encoded data removed]",
      "text/plain": [
       "<Figure size 432x288 with 1 Axes>"
      ]
     },
     "metadata": {
      "needs_background": "light"
     },
     "output_type": "display_data"
    }
   ],
   "source": [
    "# Print plot for clusters, centroids\n",
    "\n",
    "sns.scatterplot(data=labeled_df, x=\"Feature_1\", y=\"Feature_2\", hue=\"Cluster\")\n",
    "sns.scatterplot(data=centroid_df, x=\"Feature_1\", y=\"Feature_2\", color = \"r\", label = \"Centroid\")\n",
    "plt.show()"
   ]
  }
 ],
 "metadata": {
  "kernelspec": {
   "display_name": "Python 3 (ipykernel)",
   "language": "python",
   "name": "python3"
  },
  "language_info": {
   "codemirror_mode": {
    "name": "ipython",
    "version": 3
   },
   "file_extension": ".py",
   "mimetype": "text/x-python",
   "name": "python",
   "nbconvert_exporter": "python",
   "pygments_lexer": "ipython3",
   "version": "3.9.7"
  }
 },
 "nbformat": 4,
 "nbformat_minor": 5
}
